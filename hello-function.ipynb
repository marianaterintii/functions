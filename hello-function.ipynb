{
 "cells": [
  {
   "cell_type": "code",
   "execution_count": 13,
   "metadata": {},
   "outputs": [],
   "source": [
    "# function definition\n",
    "\n",
    "def hi (lang, name):\n",
    "    if lang == \"en\" and name == \"John\":\n",
    "        print (\"Hello John!\")\n",
    "    elif lang == \"ro\" and name == \"Ion\":\n",
    "        print (\"Salut Ion!\")\n",
    "    if lang == \"ru\" and name == \"Ivan\":\n",
    "        print (\"Privet Ivan!\")"
   ]
  },
  {
   "attachments": {},
   "cell_type": "markdown",
   "metadata": {},
   "source": [
    "User"
   ]
  },
  {
   "cell_type": "code",
   "execution_count": 14,
   "metadata": {},
   "outputs": [
    {
     "name": "stdout",
     "output_type": "stream",
     "text": [
      "Hello John!\n",
      "Salut Ion!\n",
      "Privet Ivan!\n"
     ]
    }
   ],
   "source": [
    "#function call\n",
    "hi (\"en\", \"John\")\n",
    "hi (\"ro\", \"Ion\")\n",
    "hi (\"ru\", \"Ivan\")"
   ]
  }
 ],
 "metadata": {
  "kernelspec": {
   "display_name": "Python 3",
   "language": "python",
   "name": "python3"
  },
  "language_info": {
   "codemirror_mode": {
    "name": "ipython",
    "version": 3
   },
   "file_extension": ".py",
   "mimetype": "text/x-python",
   "name": "python",
   "nbconvert_exporter": "python",
   "pygments_lexer": "ipython3",
   "version": "3.10.9"
  },
  "orig_nbformat": 4,
  "vscode": {
   "interpreter": {
    "hash": "7b1f2b33e866b0bf2409397e5f58ba9cdf170d3b7f64c8f359c79998e2f88ad4"
   }
  }
 },
 "nbformat": 4,
 "nbformat_minor": 2
}
